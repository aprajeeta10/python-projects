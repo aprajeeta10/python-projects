{
  "nbformat": 4,
  "nbformat_minor": 0,
  "metadata": {
    "colab": {
      "provenance": [],
      "authorship_tag": "ABX9TyMT6YDjYMxEYtV2imM5a5Gn",
      "include_colab_link": true
    },
    "kernelspec": {
      "name": "python3",
      "display_name": "Python 3"
    },
    "language_info": {
      "name": "python"
    }
  },
  "cells": [
    {
      "cell_type": "markdown",
      "metadata": {
        "id": "view-in-github",
        "colab_type": "text"
      },
      "source": [
        "<a href=\"https://colab.research.google.com/github/aprajeeta10/python-projects/blob/main/Rock%2C_Paper_and_Scissors_Game.ipynb\" target=\"_parent\"><img src=\"https://colab.research.google.com/assets/colab-badge.svg\" alt=\"Open In Colab\"/></a>"
      ]
    },
    {
      "cell_type": "code",
      "execution_count": null,
      "metadata": {
        "id": "tXH3hhHJ5P9D"
      },
      "outputs": [],
      "source": [
        "import random\n",
        "\n",
        "rock = '''\n",
        "    _______\n",
        "---'   ____)\n",
        "      (_____)\n",
        "      (_____)\n",
        "      (____)\n",
        "---.__(___)\n",
        "'''\n",
        "\n",
        "paper = '''\n",
        "    _______\n",
        "---'   ____)____\n",
        "          ______)\n",
        "          _______)\n",
        "         _______)\n",
        "---.__________)\n",
        "'''\n",
        "\n",
        "scissors = '''\n",
        "    _______\n",
        "---'   ____)____\n",
        "          ______)\n",
        "       __________)\n",
        "      (____)\n",
        "---.__(___)\n",
        "'''\n",
        "\n",
        "#Write your code below this line 👇\n",
        "user_choice = input(\"what do you want to chose? Type 0 for Rock, 1 for Paper, 2 for Scissors\\n\")\n",
        "computer_choice = random.randint(0,2)\n",
        "print(f\"Computer Chose{computer_choice}\")\n",
        "if user_choice ==0 and computer_choice ==2:\n",
        "    print(\"User wins!\")\n",
        "elif computer_choice ==0 and user_choice ==2:\n",
        "    print(\"Compter wins!\")\n",
        "elif user_choice > computer_choice:\n",
        "    print(\"User wins!\")\n",
        "elif computer_choice > user_choice:\n",
        "    print(\"Computer wins!\")\n",
        "elif computer_choice == user_choice:\n",
        "    print(\"Its a draw!\")\n",
        "else:\n",
        "    print(\"Invalid number\")"
      ]
    }
  ]
}