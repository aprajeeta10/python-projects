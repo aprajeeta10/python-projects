{
  "nbformat": 4,
  "nbformat_minor": 0,
  "metadata": {
    "colab": {
      "provenance": [],
      "authorship_tag": "ABX9TyNymd9scgs0RdbR7oSd1yOz",
      "include_colab_link": true
    },
    "kernelspec": {
      "name": "python3",
      "display_name": "Python 3"
    },
    "language_info": {
      "name": "python"
    }
  },
  "cells": [
    {
      "cell_type": "markdown",
      "metadata": {
        "id": "view-in-github",
        "colab_type": "text"
      },
      "source": [
        "<a href=\"https://colab.research.google.com/github/aprajeeta10/python-projects/blob/main/Estimating_Value_at_Risk_with_Python_Using_the_Parametric_Method.ipynb\" target=\"_parent\"><img src=\"https://colab.research.google.com/assets/colab-badge.svg\" alt=\"Open In Colab\"/></a>"
      ]
    },
    {
      "cell_type": "markdown",
      "source": [
        "The parametric method estimates VaR by assuming that portfolio returns follow a normal distribution. We will use Python and the yfinance library to download historical stock data and perform the calculations.The parametric method estimates VaR by assuming that portfolio returns follow a normal distribution. We will use Python and the yfinance library to download historical stock data and perform the calculations.\n"
      ],
      "metadata": {
        "id": "gRIi6MUDjkt9"
      }
    },
    {
      "cell_type": "markdown",
      "source": [
        "**Set Timeframe and Define Tickers**"
      ],
      "metadata": {
        "id": "g_r3T5qSjqg8"
      }
    },
    {
      "cell_type": "code",
      "execution_count": 1,
      "metadata": {
        "id": "LDjvuU0ijd2Y"
      },
      "outputs": [],
      "source": [
        "import numpy as np\n",
        "import pandas as pd\n",
        "import datetime as dt\n",
        "import yfinance as yf\n",
        "\n",
        "years = 15\n",
        "\n",
        "endDate = dt.datetime.now()\n",
        "startDate = endDate - dt.timedelta(days=365*years)\n",
        "\n",
        "tickers = ['SPY', 'BND', 'GLD', 'QQQ', 'VTI']"
      ]
    },
    {
      "cell_type": "markdown",
      "source": [
        "**Download Adjusted Close Prices and Calculate Log Returns**"
      ],
      "metadata": {
        "id": "CMbf__qWjuxR"
      }
    },
    {
      "cell_type": "code",
      "source": [
        "adj_close_df = pd.DataFrame()\n",
        "for ticker in tickers:\n",
        "    data = yf.download(ticker, start=startDate, end=endDate)\n",
        "    adj_close_df[ticker] = data['Adj Close']\n",
        "\n",
        "log_returns = np.log(adj_close_df / adj_close_df.shift(1))\n",
        "log_returns = log_returns.dropna()"
      ],
      "metadata": {
        "colab": {
          "base_uri": "https://localhost:8080/"
        },
        "id": "n5jRxvJ7j4v7",
        "outputId": "4256277b-9487-4a1a-b71c-0cada73614f5"
      },
      "execution_count": 2,
      "outputs": [
        {
          "output_type": "stream",
          "name": "stderr",
          "text": [
            "[*********************100%%**********************]  1 of 1 completed\n",
            "[*********************100%%**********************]  1 of 1 completed\n",
            "[*********************100%%**********************]  1 of 1 completed\n",
            "[*********************100%%**********************]  1 of 1 completed\n",
            "[*********************100%%**********************]  1 of 1 completed\n"
          ]
        }
      ]
    },
    {
      "cell_type": "markdown",
      "source": [
        "**Create Equally Weighted Portfolio and Calculate Historical Returns**"
      ],
      "metadata": {
        "id": "vex_JRiWj7Rp"
      }
    },
    {
      "cell_type": "code",
      "source": [
        "portfolio_value = 1000000\n",
        "weights = np.array([1/len(tickers)] * len(tickers))\n",
        "\n",
        "historical_returns = (log_returns * weights).sum(axis=1)"
      ],
      "metadata": {
        "id": "bu_3ih8qj92-"
      },
      "execution_count": 3,
      "outputs": []
    },
    {
      "cell_type": "markdown",
      "source": [
        "**Find X-Day Historical Returns**"
      ],
      "metadata": {
        "id": "DaR_LR2fj_0L"
      }
    },
    {
      "cell_type": "code",
      "source": [
        "days = 5\n",
        "historical_x_day_returns = historical_returns.rolling(window=days).sum()"
      ],
      "metadata": {
        "id": "EjgfLyJ0kCAp"
      },
      "execution_count": 4,
      "outputs": []
    },
    {
      "cell_type": "markdown",
      "source": [
        "**Create Covariance Matrix and Calculate Portfolio Standard Deviation**"
      ],
      "metadata": {
        "id": "Z31JYb0IkEvH"
      }
    },
    {
      "cell_type": "code",
      "source": [
        "cov_matrix = log_returns.cov() * 252\n",
        "portfolio_std_dev = np.sqrt(weights.T @ cov_matrix @ weights)"
      ],
      "metadata": {
        "id": "93ZeiZjrkG1a"
      },
      "execution_count": 5,
      "outputs": []
    },
    {
      "cell_type": "markdown",
      "source": [
        "**Calculate VaR at Different Confidence Levels**"
      ],
      "metadata": {
        "id": "TFCPGiFHkJM1"
      }
    },
    {
      "cell_type": "code",
      "source": [
        "from scipy.stats import norm\n",
        "\n",
        "confidence_levels = [0.90, 0.95, 0.99]\n",
        "\n",
        "VaRs = []\n",
        "for cl in confidence_levels:\n",
        "    VaR = portfolio_value * (norm.ppf(1 - cl) * portfolio_std_dev * np.sqrt(days / 252) - historical_returns.mean() * days)\n",
        "    VaRs.append(VaR)"
      ],
      "metadata": {
        "id": "H_caWTs-kMCO"
      },
      "execution_count": 6,
      "outputs": []
    },
    {
      "cell_type": "markdown",
      "source": [
        "**VaR Results**"
      ],
      "metadata": {
        "id": "h4zzDN12kOan"
      }
    },
    {
      "cell_type": "code",
      "source": [
        "print(f'{\"Confidence Level\":<20} {\"Value at Risk\":<20}')\n",
        "print('-' * 40)\n",
        "\n",
        "for cl, VaR in zip(confidence_levels, VaRs):\n",
        "    print(f'{cl * 100:>6.0f}%: {\"\":<8} ${VaR:>10,.2f}')"
      ],
      "metadata": {
        "colab": {
          "base_uri": "https://localhost:8080/"
        },
        "id": "bl7UckG2kQ6O",
        "outputId": "e88d9955-453c-4547-edf9-2d20ff1b8268"
      },
      "execution_count": 7,
      "outputs": [
        {
          "output_type": "stream",
          "name": "stdout",
          "text": [
            "Confidence Level     Value at Risk       \n",
            "----------------------------------------\n",
            "    90%:          $-23,063.50\n",
            "    95%:          $-29,008.92\n",
            "    99%:          $-40,161.54\n"
          ]
        }
      ]
    },
    {
      "cell_type": "markdown",
      "source": [
        "**Plot the Distribution of Portfolio Returns and Parametric VaR Estimates**"
      ],
      "metadata": {
        "id": "K-4_RA2RkStC"
      }
    },
    {
      "cell_type": "code",
      "source": [
        "import matplotlib.pyplot as plt"
      ],
      "metadata": {
        "id": "qQkHNuqYdQfe"
      },
      "execution_count": 9,
      "outputs": []
    },
    {
      "cell_type": "code",
      "source": [
        "# Convert returns to dollar values for the histogram\n",
        "historical_x_day_returns_dollar = historical_x_day_returns * portfolio_value\n",
        "\n",
        "# Plot the histogram\n",
        "plt.hist(historical_x_day_returns_dollar, bins=50, density=True, alpha=0.5, label=f'{days}-Day Returns')\n",
        "\n",
        "# Add vertical lines representing VaR at each confidence level\n",
        "for cl, VaR in zip(confidence_levels, VaRs):\n",
        "    plt.axvline(x=-VaR, linestyle='--', color='r', label='VaR at {}% Confidence'.format(int(cl * 100)))\n",
        "\n",
        "plt.xlabel(f'{days}-Day Portfolio Return ($)')\n",
        "plt.ylabel('Frequency')\n",
        "plt.title(f'Distribution of Portfolio {days}-Day Returns and Parametric VaR Estimates')\n",
        "plt.legend()\n",
        "plt.show()"
      ],
      "metadata": {
        "id": "ifAr9oEJkrpW",
        "outputId": "6bc63501-cf06-41ed-8695-78ecb9758c2c",
        "colab": {
          "base_uri": "https://localhost:8080/",
          "height": 487
        }
      },
      "execution_count": 10,
      "outputs": [
        {
          "output_type": "display_data",
          "data": {
            "text/plain": [
              "<Figure size 640x480 with 1 Axes>"
            ],
            "image/png": "[encoded data removed]"
          },
          "metadata": {}
        }
      ]
    }
  ]
}