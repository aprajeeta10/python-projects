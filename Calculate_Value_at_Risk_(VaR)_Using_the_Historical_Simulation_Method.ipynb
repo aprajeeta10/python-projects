{
  "nbformat": 4,
  "nbformat_minor": 0,
  "metadata": {
    "colab": {
      "provenance": [],
      "authorship_tag": "ABX9TyOxxaR/ocAGe+B6SPbqHqeX",
      "include_colab_link": true
    },
    "kernelspec": {
      "name": "python3",
      "display_name": "Python 3"
    },
    "language_info": {
      "name": "python"
    }
  },
  "cells": [
    {
      "cell_type": "markdown",
      "metadata": {
        "id": "view-in-github",
        "colab_type": "text"
      },
      "source": [
        "<a href=\"https://colab.research.google.com/github/aprajeeta10/python-projects/blob/main/Calculate_Value_at_Risk_(VaR)_Using_the_Historical_Simulation_Method.ipynb\" target=\"_parent\"><img src=\"https://colab.research.google.com/assets/colab-badge.svg\" alt=\"Open In Colab\"/></a>"
      ]
    },
    {
      "cell_type": "markdown",
      "source": [
        "##Importing Libraries\n"
      ],
      "metadata": {
        "id": "IhfdpbDXYNU9"
      }
    },
    {
      "cell_type": "code",
      "source": [
        "import numpy as np\n",
        "import pandas as pd\n",
        "import datetime as dt\n",
        "import yfinance as yf\n",
        "import matplotlib.pyplot as plt\n",
        "from scipy.stats import norm"
      ],
      "metadata": {
        "id": "g-jyiWAxW_Uz"
      },
      "execution_count": 19,
      "outputs": []
    },
    {
      "cell_type": "markdown",
      "source": [
        "##Setting Time Range and Ticker List\n"
      ],
      "metadata": {
        "id": "RMHVwYpaVpqV"
      }
    },
    {
      "cell_type": "markdown",
      "source": [
        "In this section, we set the time range for our historical data to 15 years and create a list of stock tickers for our portfolio.\n",
        "\n"
      ],
      "metadata": {
        "id": "wlmioIWeYS9h"
      }
    },
    {
      "cell_type": "code",
      "source": [
        "### Set time from to a certain number of years\n",
        "years = 15\n",
        "\n",
        "endDate = dt.datetime.now()\n",
        "startDate = endDate - dt.timedelta(days = 365*years)\n",
        "\n",
        "### Create a list of tickers\n",
        "tickers = ['SPY','BND','GLD','QQQ','VTI']"
      ],
      "metadata": {
        "id": "QWN0FjH0Vj4d"
      },
      "execution_count": 20,
      "outputs": []
    },
    {
      "cell_type": "markdown",
      "source": [
        "##Downloading Adjusted Close Prices"
      ],
      "metadata": {
        "id": "HlD9wVKuVHrB"
      }
    },
    {
      "cell_type": "markdown",
      "source": [
        "Next, we download the daily adjusted close prices for each stock ticker using the yfinance library and store the data in a DataFrame."
      ],
      "metadata": {
        "id": "M1xDhVdDVJtn"
      }
    },
    {
      "cell_type": "code",
      "source": [
        "### Download the daily adjusted close prices for the tickers\n",
        "adj_close_df = pd.DataFrame()\n",
        "\n",
        "for ticker in tickers:\n",
        "    data = yf.download(ticker, start = startDate, end = endDate)\n",
        "    adj_close_df[ticker] = data['Adj Close']\n",
        "\n",
        "print(adj_close_df)"
      ],
      "metadata": {
        "colab": {
          "base_uri": "https://localhost:8080/"
        },
        "id": "wE572bJlVRF6",
        "outputId": "820c1615-acc9-4791-c78d-e947514a279c"
      },
      "execution_count": 21,
      "outputs": [
        {
          "output_type": "stream",
          "name": "stdout",
          "text": [
            "[*********************100%***********************]  1 of 1 completed\n",
            "[*********************100%***********************]  1 of 1 completed\n",
            "[*********************100%***********************]  1 of 1 completed\n",
            "[*********************100%***********************]  1 of 1 completed\n",
            "[*********************100%***********************]  1 of 1 completed\n",
            "                   SPY        BND         GLD         QQQ         VTI\n",
            "Date                                                                 \n",
            "2008-08-04   93.331261  48.957024   88.139999   38.895500   47.327229\n",
            "2008-08-05   95.847679  48.756443   86.080002   40.208656   48.538994\n",
            "2008-08-06   96.273300  48.691723   86.639999   40.821449   48.599224\n",
            "2008-08-07   94.839630  49.002335   86.089996   40.506298   47.906773\n",
            "2008-08-08   96.601891  48.982929   84.430000   41.425503   48.922867\n",
            "...                ...        ...         ...         ...         ...\n",
            "2023-07-24  454.200012  72.500000  181.399994  376.230011  226.320007\n",
            "2023-07-25  455.440002  72.419998  182.410004  378.779999  226.889999\n",
            "2023-07-26  455.510010  72.660004  183.300003  377.519989  227.059998\n",
            "2023-07-27  452.489990  72.040001  180.419998  376.619995  225.309998\n",
            "2023-07-28  456.920013  72.290001  181.860001  383.480011  227.660004\n",
            "\n",
            "[3772 rows x 5 columns]\n"
          ]
        }
      ]
    },
    {
      "cell_type": "markdown",
      "source": [
        "##Calculating Daily Log Returns\n"
      ],
      "metadata": {
        "id": "ldK9OCQqVvfC"
      }
    },
    {
      "cell_type": "markdown",
      "source": [
        "We calculate the daily log returns for each stock in our portfolio and drop any missing values.\n",
        "\n"
      ],
      "metadata": {
        "id": "LGc44obwV95D"
      }
    },
    {
      "cell_type": "code",
      "source": [
        "### Calculate the daily log returns and drop any NAs\n",
        "log_returns = np.log(adj_close_df/adj_close_df.shift(1))\n",
        "log_returns  = log_returns.dropna()\n",
        "\n",
        "print(log_returns)"
      ],
      "metadata": {
        "colab": {
          "base_uri": "https://localhost:8080/"
        },
        "id": "w6uDuM0NV5b-",
        "outputId": "9b7cfcc1-6c12-4d7a-f969-b432c68e725c"
      },
      "execution_count": 22,
      "outputs": [
        {
          "output_type": "stream",
          "name": "stdout",
          "text": [
            "                 SPY       BND       GLD       QQQ       VTI\n",
            "Date                                                        \n",
            "2008-08-05  0.026605 -0.004105 -0.023649  0.033204  0.025282\n",
            "2008-08-06  0.004431 -0.001328  0.006484  0.015125  0.001240\n",
            "2008-08-07 -0.015004  0.006359 -0.006368 -0.007750 -0.014351\n",
            "2008-08-08  0.018411 -0.000396 -0.019470  0.022439  0.020988\n",
            "2008-08-11  0.010304 -0.004236 -0.039870  0.009046  0.009950\n",
            "...              ...       ...       ...       ...       ...\n",
            "2023-07-24  0.004457 -0.001654 -0.004291  0.001596  0.003541\n",
            "2023-07-25  0.002726 -0.001104  0.005552  0.006755  0.002515\n",
            "2023-07-26  0.000154  0.003309  0.004867 -0.003332  0.000749\n",
            "2023-07-27 -0.006652 -0.008570 -0.015837 -0.002387 -0.007737\n",
            "2023-07-28  0.009743  0.003464  0.007950  0.018051  0.010376\n",
            "\n",
            "[3771 rows x 5 columns]\n"
          ]
        }
      ]
    },
    {
      "cell_type": "markdown",
      "source": [
        "##Creating an Equally Weighted Portfolio\n"
      ],
      "metadata": {
        "id": "is8F3EEgp34e"
      }
    },
    {
      "cell_type": "markdown",
      "source": [
        "Now, we’ll create an equally weighted portfolio with a total value of $1,000,000.\n",
        "\n"
      ],
      "metadata": {
        "id": "J5BJfFhip5Ci"
      }
    },
    {
      "cell_type": "code",
      "source": [
        "portfolio_value = 1000000\n",
        "weights = np.array([1/len(tickers)]*len(tickers))\n",
        "print(weights)"
      ],
      "metadata": {
        "colab": {
          "base_uri": "https://localhost:8080/"
        },
        "id": "f3rVjdSwqDzL",
        "outputId": "52d8f145-f894-4b3f-d268-80cd6aba24d2"
      },
      "execution_count": 23,
      "outputs": [
        {
          "output_type": "stream",
          "name": "stdout",
          "text": [
            "[0.2 0.2 0.2 0.2 0.2]\n"
          ]
        }
      ]
    },
    {
      "cell_type": "markdown",
      "source": [
        "##Calculating Historical Portfolio Returns\n"
      ],
      "metadata": {
        "id": "Eodf2UMupbGI"
      }
    },
    {
      "cell_type": "markdown",
      "source": [
        "With the weights defined, we can now calculate the historical portfolio returns.\n",
        "\n"
      ],
      "metadata": {
        "id": "SCQnHU4_peUi"
      }
    },
    {
      "cell_type": "code",
      "source": [
        "historical_returns = (log_returns * weights).sum(axis =1)\n",
        "print(historical_returns)"
      ],
      "metadata": {
        "colab": {
          "base_uri": "https://localhost:8080/"
        },
        "id": "QiTSfqBUpgH8",
        "outputId": "4f1b77d9-2dd5-4c1f-e2b8-bab1804a79d8"
      },
      "execution_count": 24,
      "outputs": [
        {
          "output_type": "stream",
          "name": "stdout",
          "text": [
            "Date\n",
            "2008-08-05    0.011467\n",
            "2008-08-06    0.005190\n",
            "2008-08-07   -0.007423\n",
            "2008-08-08    0.008394\n",
            "2008-08-11   -0.002961\n",
            "                ...   \n",
            "2023-07-24    0.000730\n",
            "2023-07-25    0.003289\n",
            "2023-07-26    0.001149\n",
            "2023-07-27   -0.008236\n",
            "2023-07-28    0.009917\n",
            "Length: 3771, dtype: float64\n"
          ]
        }
      ]
    },
    {
      "cell_type": "markdown",
      "source": [
        "##Finding X-Day Historical Returns\n"
      ],
      "metadata": {
        "id": "zjCyeFAgph9h"
      }
    },
    {
      "cell_type": "markdown",
      "source": [
        "Next, we’ll find the X-day historical returns. In this example, we’ll use a 50-day window.\n",
        "\n"
      ],
      "metadata": {
        "id": "EvBz58ZsplP0"
      }
    },
    {
      "cell_type": "code",
      "source": [
        "days = 50\n",
        "\n",
        "range_returns = historical_returns.rolling(window = days).sum()\n",
        "range_returns = range_returns.dropna()\n",
        "print(range_returns)"
      ],
      "metadata": {
        "colab": {
          "base_uri": "https://localhost:8080/"
        },
        "id": "l6XgYADMqH6O",
        "outputId": "d799bb1c-8331-42a9-cc55-9b71cd395f9f"
      },
      "execution_count": 25,
      "outputs": [
        {
          "output_type": "stream",
          "name": "stdout",
          "text": [
            "Date\n",
            "2008-10-14   -0.163327\n",
            "2008-10-15   -0.232466\n",
            "2008-10-16   -0.219846\n",
            "2008-10-17   -0.219482\n",
            "2008-10-20   -0.197475\n",
            "                ...   \n",
            "2023-07-24    0.059341\n",
            "2023-07-25    0.063667\n",
            "2023-07-26    0.067665\n",
            "2023-07-27    0.056898\n",
            "2023-07-28    0.072492\n",
            "Length: 3722, dtype: float64\n"
          ]
        }
      ]
    },
    {
      "cell_type": "markdown",
      "source": [
        "##Calculating VaR Using the Historical Method\n"
      ],
      "metadata": {
        "id": "yyumexEFqIfz"
      }
    },
    {
      "cell_type": "markdown",
      "source": [
        "Now, we can specify a confidence interval and calculate the Value at Risk (VaR) using the historical method.\n",
        "\n"
      ],
      "metadata": {
        "id": "zZLU5ThrqLa0"
      }
    },
    {
      "cell_type": "code",
      "source": [
        "confidence_interval = 0.99\n",
        "\n",
        "VaR = -np.percentile(range_returns, 100 - (confidence_interval * 100))*portfolio_value\n",
        "print(VaR)"
      ],
      "metadata": {
        "colab": {
          "base_uri": "https://localhost:8080/"
        },
        "id": "bsXD8Q3cqQGL",
        "outputId": "2b217f76-7a44-4f70-8103-e8f4860509cc"
      },
      "execution_count": 26,
      "outputs": [
        {
          "output_type": "stream",
          "name": "stdout",
          "text": [
            "191697.29949218314\n"
          ]
        }
      ]
    },
    {
      "cell_type": "markdown",
      "source": [
        "##Plotting the Results of the Historical Returns\n"
      ],
      "metadata": {
        "id": "inBm0e8tqQ4Z"
      }
    },
    {
      "cell_type": "markdown",
      "source": [
        "Finally, let’s plot the results of the historical returns to visualize the distribution of portfolio returns and the VaR at the specified confidence level.\n",
        "\n"
      ],
      "metadata": {
        "id": "JH5wiCf2qTcX"
      }
    },
    {
      "cell_type": "code",
      "source": [
        "return_window = days\n",
        "range_returns = historical_returns.rolling(window=return_window).sum()\n",
        "range_returns = range_returns.dropna()\n",
        "\n",
        "range_returns_dollar = range_returns * portfolio_value\n",
        "\n",
        "plt.hist(range_returns_dollar.dropna(), bins=50, density=True)\n",
        "plt.xlabel(f'{return_window}-Day Portfolio Return (Dollar Value)')\n",
        "plt.ylabel('Frequency')\n",
        "plt.title(f'Distribution of Portfolio {return_window}-Day Returns (Dollar Value)')\n",
        "plt.axvline(-VaR, color='r', linestyle='dashed', linewidth=2, label=f'VaR at {confidence_interval:.0%} confidence level')\n",
        "plt.legend()\n",
        "plt.show()"
      ],
      "metadata": {
        "colab": {
          "base_uri": "https://localhost:8080/",
          "height": 487
        },
        "id": "FBNzbgUZqVCr",
        "outputId": "bca9ca95-008c-4448-da24-7fcdd6037ed3"
      },
      "execution_count": 27,
      "outputs": [
        {
          "output_type": "display_data",
          "data": {
            "text/plain": [
              "<Figure size 640x480 with 1 Axes>"
            ],
            "image/png": "[encoded data removed]"
          },
          "metadata": {}
        }
      ]
    },
    {
      "cell_type": "markdown",
      "source": [
        "CONCLUSION:\n",
        "\n",
        "In conclusion, the historical method for calculating Value at Risk (VaR) provides a simple and intuitive way to estimate the potential losses in your investment portfolio. However, it is essential to remember that historical returns do not guarantee future performance, and relying solely on this method may lead to inaccurate risk assessments."
      ],
      "metadata": {
        "id": "T-uy36TkqWyp"
      }
    }
  ]
}