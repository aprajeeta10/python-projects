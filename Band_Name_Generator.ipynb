{
  "nbformat": 4,
  "nbformat_minor": 0,
  "metadata": {
    "colab": {
      "provenance": [],
      "authorship_tag": "ABX9TyOILbTMOOC28pikbfXPkg7i",
      "include_colab_link": true
    },
    "kernelspec": {
      "name": "python3",
      "display_name": "Python 3"
    },
    "language_info": {
      "name": "python"
    }
  },
  "cells": [
    {
      "cell_type": "markdown",
      "metadata": {
        "id": "view-in-github",
        "colab_type": "text"
      },
      "source": [
        "<a href=\"https://colab.research.google.com/github/aprajeeta10/python-projects/blob/main/Band_Name_Generator.ipynb\" target=\"_parent\"><img src=\"https://colab.research.google.com/assets/colab-badge.svg\" alt=\"Open In Colab\"/></a>"
      ]
    },
    {
      "cell_type": "code",
      "execution_count": 1,
      "metadata": {
        "colab": {
          "base_uri": "https://localhost:8080/"
        },
        "id": "8jZFLxxm8TN9",
        "outputId": "27172ee9-d930-4076-ee93-4e6be5795748"
      },
      "outputs": [
        {
          "output_type": "stream",
          "name": "stdout",
          "text": [
            "Welcome to brand name generator. \n",
            "What's the name of the city you grew up in?\n",
            "NY\n",
            "What's the name of you pet?\n",
            "DOL\n",
            "Your brand name could be NY DOL\n"
          ]
        }
      ],
      "source": [
        "print(\"Welcome to brand name generator. \")\n",
        "city = input(\"What's the name of the city you grew up in?\\n\")\n",
        "pet = input(\"What's the name of you pet?\\n\")\n",
        "print(\"Your brand name could be \" + city + \" \" + pet)"
      ]
    }
  ]
}