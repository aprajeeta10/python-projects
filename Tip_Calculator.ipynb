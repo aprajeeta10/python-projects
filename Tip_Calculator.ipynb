{
  "nbformat": 4,
  "nbformat_minor": 0,
  "metadata": {
    "colab": {
      "provenance": [],
      "authorship_tag": "ABX9TyN9ldh1wN9HnnbnsXABuKVt",
      "include_colab_link": true
    },
    "kernelspec": {
      "name": "python3",
      "display_name": "Python 3"
    },
    "language_info": {
      "name": "python"
    }
  },
  "cells": [
    {
      "cell_type": "markdown",
      "metadata": {
        "id": "view-in-github",
        "colab_type": "text"
      },
      "source": [
        "<a href=\"https://colab.research.google.com/github/aprajeeta10/python-projects/blob/main/Tip_Calculator.ipynb\" target=\"_parent\"><img src=\"https://colab.research.google.com/assets/colab-badge.svg\" alt=\"Open In Colab\"/></a>"
      ]
    },
    {
      "cell_type": "code",
      "execution_count": 1,
      "metadata": {
        "colab": {
          "base_uri": "https://localhost:8080/"
        },
        "id": "1ezuaniX4quS",
        "outputId": "45e704a8-a148-4035-febe-9bfbb3b4bfcd"
      },
      "outputs": [
        {
          "output_type": "stream",
          "name": "stdout",
          "text": [
            "Welcome to the tip calculator.\n",
            "What was the total bill? $1000\n",
            "How much tip would you like to give? 10, 12 or 15?10\n",
            "How many people to split the bill?5\n",
            "Each person should pay 220.0 dollar\n"
          ]
        }
      ],
      "source": [
        "print(\"Welcome to the tip calculator.\")\n",
        "bill = float(input(\"What was the total bill? $\"))\n",
        "tip = int(input(\"How much tip would you like to give? 10, 12 or 15?\"))\n",
        "people = int(input(\"How many people to split the bill?\"))\n",
        "tip_as_percent = tip / 100\n",
        "total_tip_amount = bill * tip_as_percent\n",
        "total_bill = bill + total_tip_amount\n",
        "bill_per_person = total_bill/people\n",
        "final_amount = round(bill_per_person, 2)\n",
        "print(f\"Each person should pay {final_amount} dollar\")"
      ]
    }
  ]
}