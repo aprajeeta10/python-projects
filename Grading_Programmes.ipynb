{
  "nbformat": 4,
  "nbformat_minor": 0,
  "metadata": {
    "colab": {
      "provenance": [],
      "authorship_tag": "ABX9TyPWp4C1/1SfMcYWvBy7g9cA",
      "include_colab_link": true
    },
    "kernelspec": {
      "name": "python3",
      "display_name": "Python 3"
    },
    "language_info": {
      "name": "python"
    }
  },
  "cells": [
    {
      "cell_type": "markdown",
      "metadata": {
        "id": "view-in-github",
        "colab_type": "text"
      },
      "source": [
        "<a href=\"https://colab.research.google.com/github/aprajeeta10/python-projects/blob/main/Grading_Programmes.ipynb\" target=\"_parent\"><img src=\"https://colab.research.google.com/assets/colab-badge.svg\" alt=\"Open In Colab\"/></a>"
      ]
    },
    {
      "cell_type": "code",
      "execution_count": 1,
      "metadata": {
        "colab": {
          "base_uri": "https://localhost:8080/"
        },
        "id": "3O7Pn7Xv8sOC",
        "outputId": "f319af72-a055-42ac-e8fa-2669e72a9bb8"
      },
      "outputs": [
        {
          "output_type": "stream",
          "name": "stdout",
          "text": [
            "{'Harry': 'exceeds expectations', 'Ron': 'acceptable', 'Hermione': 'outstanding', 'Draco': 'acceptable', 'Neville': 'fail'}\n"
          ]
        }
      ],
      "source": [
        "student_scores = {\n",
        "  \"Harry\": 81,\n",
        "  \"Ron\": 78,\n",
        "  \"Hermione\": 99,\n",
        "  \"Draco\": 74,\n",
        "  \"Neville\": 62,\n",
        "}\n",
        "\n",
        "student_grades = {}\n",
        "\n",
        "for student in student_scores:\n",
        "    score = student_scores[student]\n",
        "    if score > 90:\n",
        "        student_grades[student] = \"outstanding\"\n",
        "    elif score >80:\n",
        "         student_grades[student] = \"exceeds expectations\"\n",
        "    elif score >70:\n",
        "        student_grades[student] = \"acceptable\"\n",
        "    else:\n",
        "        student_grades[student] = \"fail\"\n",
        "\n",
        "print(student_grades)"
      ]
    }
  ]
}