{
  "nbformat": 4,
  "nbformat_minor": 0,
  "metadata": {
    "colab": {
      "provenance": [],
      "authorship_tag": "ABX9TyMX4DUtUp2WeuJ79rXT50oU",
      "include_colab_link": true
    },
    "kernelspec": {
      "name": "python3",
      "display_name": "Python 3"
    },
    "language_info": {
      "name": "python"
    }
  },
  "cells": [
    {
      "cell_type": "markdown",
      "metadata": {
        "id": "view-in-github",
        "colab_type": "text"
      },
      "source": [
        "<a href=\"https://colab.research.google.com/github/aprajeeta10/python-projects/blob/main/Head_or_Tails.ipynb\" target=\"_parent\"><img src=\"https://colab.research.google.com/assets/colab-badge.svg\" alt=\"Open In Colab\"/></a>"
      ]
    },
    {
      "cell_type": "code",
      "execution_count": null,
      "metadata": {
        "id": "rxdDcSlQ9K1a"
      },
      "outputs": [],
      "source": [
        "import random\n",
        "\n",
        "random_side = random.randint(0,1)\n",
        "if random_side ==1:\n",
        "    print(\"H\")\n",
        "else:\n",
        "    print(\"T\")"
      ]
    }
  ]
}