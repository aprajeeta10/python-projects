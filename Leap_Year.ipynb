{
  "nbformat": 4,
  "nbformat_minor": 0,
  "metadata": {
    "colab": {
      "provenance": [],
      "authorship_tag": "ABX9TyMLSx/unhjayvUQosvDcywJ",
      "include_colab_link": true
    },
    "kernelspec": {
      "name": "python3",
      "display_name": "Python 3"
    },
    "language_info": {
      "name": "python"
    }
  },
  "cells": [
    {
      "cell_type": "markdown",
      "metadata": {
        "id": "view-in-github",
        "colab_type": "text"
      },
      "source": [
        "<a href=\"https://colab.research.google.com/github/aprajeeta10/python-projects/blob/main/Leap_Year.ipynb\" target=\"_parent\"><img src=\"https://colab.research.google.com/assets/colab-badge.svg\" alt=\"Open In Colab\"/></a>"
      ]
    },
    {
      "cell_type": "code",
      "execution_count": null,
      "metadata": {
        "id": "p4cGL3qR9YSp"
      },
      "outputs": [],
      "source": [
        "year = int(input(\"Which year do you want to check? \"))\n",
        "\n",
        "if year%4==0:\n",
        "    print(\"It is a leap year.\")\n",
        "if year%100==0:\n",
        "    if year%400==0:\n",
        "        print(\"It is a leap year.\")\n",
        "    else:\n",
        "         print(\"not a leap year\")\n",
        "else:\n",
        "    print(\"not a leap year\")"
      ]
    }
  ]
}