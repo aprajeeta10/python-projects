{
  "nbformat": 4,
  "nbformat_minor": 0,
  "metadata": {
    "colab": {
      "provenance": [],
      "authorship_tag": "ABX9TyP2k9X4n9XwYoi5gfBH7sEN",
      "include_colab_link": true
    },
    "kernelspec": {
      "name": "python3",
      "display_name": "Python 3"
    },
    "language_info": {
      "name": "python"
    }
  },
  "cells": [
    {
      "cell_type": "markdown",
      "metadata": {
        "id": "view-in-github",
        "colab_type": "text"
      },
      "source": [
        "<a href=\"https://colab.research.google.com/github/aprajeeta10/python-projects/blob/main/Portfolio_Optimization_using_Python_and_Modern_Portfolio_Theory.ipynb\" target=\"_parent\"><img src=\"https://colab.research.google.com/assets/colab-badge.svg\" alt=\"Open In Colab\"/></a>"
      ]
    },
    {
      "cell_type": "markdown",
      "source": [
        "**Section 1: Define Tickers and Time Range**\n",
        "\n",
        "First, we define a list of tickers for the assets we want to include in the portfolio. In this example, we use five ETFs representing various asset classes: SPY, BND, GLD, QQQ, and VTI. We then set the start and end dates for our analysis. We use a five-year historical time range for our calculations.\n",
        "\n"
      ],
      "metadata": {
        "id": "R3b7HAWHEtjq"
      }
    },
    {
      "cell_type": "code",
      "execution_count": null,
      "metadata": {
        "id": "IpPxDBygEsEK"
      },
      "outputs": [],
      "source": [
        "import pandas as pd\n",
        "import numpy as np\n",
        "\n",
        "# Import the datetime module\n",
        "from datetime import datetime, timedelta\n",
        "\n",
        "tickers = ['SPY','BND','GLD','QQQ','VTI']\n",
        "end_date = datetime.today()\n",
        "start_date = end_date - timedelta(days = 5*365)"
      ]
    },
    {
      "cell_type": "markdown",
      "source": [
        "**Section 2: Download Adjusted Close Prices**\n",
        "\n",
        "Next, we create an empty DataFrame to store the adjusted close prices of each asset. We use the yfinance library to download the data from Yahoo Finance."
      ],
      "metadata": {
        "id": "qcbAGqY6E3vE"
      }
    },
    {
      "cell_type": "code",
      "source": [
        "import yfinance as yf\n",
        "\n",
        "adj_close_df = pd.DataFrame()\n",
        "for ticker in tickers:\n",
        "    data = yf.download(ticker, start = start_date,end = end_date)\n",
        "    adj_close_df[ticker] = data['Adj Close']"
      ],
      "metadata": {
        "colab": {
          "base_uri": "https://localhost:8080/"
        },
        "id": "sFkH1m1SE57B",
        "outputId": "94c672ab-9ecf-4275-fa13-0d201b9c0778"
      },
      "execution_count": null,
      "outputs": [
        {
          "output_type": "stream",
          "name": "stderr",
          "text": [
            "[*********************100%%**********************]  1 of 1 completed\n",
            "[*********************100%%**********************]  1 of 1 completed\n",
            "[*********************100%%**********************]  1 of 1 completed\n",
            "[*********************100%%**********************]  1 of 1 completed\n",
            "[*********************100%%**********************]  1 of 1 completed\n"
          ]
        }
      ]
    },
    {
      "cell_type": "markdown",
      "source": [
        "**Section 3: Calculate Lognormal Returns**"
      ],
      "metadata": {
        "id": "mqNlHeCZE8U3"
      }
    },
    {
      "cell_type": "code",
      "source": [
        "log_returns = np.log(adj_close_df / adj_close_df.shift(1))"
      ],
      "metadata": {
        "id": "vZwf0X-CE_xh"
      },
      "execution_count": null,
      "outputs": []
    },
    {
      "cell_type": "markdown",
      "source": [
        "**Section 4: Calculate Covariance Matrix**"
      ],
      "metadata": {
        "id": "fXK4dyDYFCFt"
      }
    },
    {
      "cell_type": "code",
      "source": [
        "cov_matrix = log_returns.cov() * 252"
      ],
      "metadata": {
        "id": "kamZrHLNFEPv"
      },
      "execution_count": null,
      "outputs": []
    },
    {
      "cell_type": "markdown",
      "source": [
        "**Section 5: Define Portfolio Performance Metrics**"
      ],
      "metadata": {
        "id": "3O1UgW2YFGHD"
      }
    },
    {
      "cell_type": "code",
      "source": [
        "def standard_deviation(weights, cov_matrix):\n",
        "    variance = weights.T @ cov_matrix @ weights\n",
        "    return np.sqrt(variance)\n",
        "\n",
        "def expected_return(weights, log_returns):\n",
        "    return np.sum(log_returns.mean()*weights)*252\n",
        "\n",
        "def sharpe_ratio(weights, log_returns, cov_matrix, risk_free_rate):\n",
        "    return (expected_return(weights, log_returns) - risk_free_rate) / standard_deviation(weights, cov_matrix)"
      ],
      "metadata": {
        "id": "JNjmceJYFI8x"
      },
      "execution_count": null,
      "outputs": []
    },
    {
      "cell_type": "markdown",
      "source": [
        "**Section 6: Portfolio Optimization**\n",
        "\n",
        "> We set the risk-free rate, define a function to minimize the negative Sharpe ratio, and set constraints and bounds for the optimization process.\n",
        "\n",
        "\n"
      ],
      "metadata": {
        "id": "CAzkquOVFLZb"
      }
    },
    {
      "cell_type": "code",
      "source": [
        "from scipy.optimize import minimize\n",
        "risk_free_rate = .02\n",
        "\n",
        "def neg_sharpe_ratio(weights, log_returns, cov_matrix, risk_free_rate):\n",
        "    return -sharpe_ratio(weights, log_returns, cov_matrix, risk_free_rate)\n",
        "\n",
        "constraints = {'type': 'eq', 'fun': lambda weights: np.sum(weights) - 1}\n",
        "bounds = [(0, 0.4) for _ in range(len(tickers))]\n",
        "initial_weights = np.array([1/len(tickers)]*len(tickers))\n",
        "\n",
        "optimized_results = minimize(neg_sharpe_ratio, initial_weights, args=(log_returns, cov_matrix, risk_free_rate), method='SLSQP', constraints=constraints, bounds=bounds)"
      ],
      "metadata": {
        "id": "P-2DVvj4FUvb"
      },
      "execution_count": null,
      "outputs": []
    },
    {
      "cell_type": "markdown",
      "source": [
        "The provided code is for optimizing the weights of a portfolio of assets to maximize the Sharpe ratio, which is a measure of risk-adjusted return.\n",
        "\n",
        "* from scipy.optimize import minimize\n",
        "\n",
        "This function is used to find the minimum of a scalar function of one or more variables. In this context, it's used to maximize the Sharpe ratio by minimizing its negative.\n",
        "\n",
        "* risk_free_rate = .02\n",
        "\n",
        "This is the rate of return of a theoretically risk-free investment, like government bonds.\n",
        "\n",
        "* def neg_sharpe_ratio(weights, log_returns, cov_matrix, risk_free_rate):\n",
        "    return -sharpe_ratio(weights, log_returns, cov_matrix, risk_free_rate)\n",
        "\n",
        "This function calculates the negative Sharpe ratio for a given set of portfolio weights. It takes the portfolio weights, logarithmic returns, covariance matrix, and risk-free rate as inputs, and returns the negative of the Sharpe ratio. The reason for returning the negative Sharpe ratio is that the minimize function can only minimize functions, so to maximize the Sharpe ratio, its negative is minimized.\n",
        "\n",
        "* constraints = {'type': 'eq', 'fun': lambda weights: np.sum(weights) - 1}\n",
        "\n",
        "This constraint ensures that the sum of the portfolio weights is equal to 1, meaning that all available capital is invested.\n",
        "\n",
        "* bounds = [(0, 0.4) for _ in range(len(tickers))]\n",
        "\n",
        "This specifies that each asset's weight in the portfolio should be between 0 and 0.4. This prevents any single asset from having a weight greater than 40% of the total portfolio.\n",
        "\n",
        "* initial_weights = np.array([1/len(tickers)]*len(tickers))\n",
        "\n",
        "This sets the initial guess for the portfolio weights, with equal allocation to each asset.\n",
        "\n",
        "* optimized_results = minimize(neg_sharpe_ratio, initial_weights, args=(log_returns, cov_matrix, risk_free_rate), method='SLSQP', constraints=constraints, bounds=bounds)\n",
        "\n",
        "This calls the minimize function to find the optimal portfolio weights that maximize the Sharpe ratio. It uses the Sequential Least Squares Programming (SLSQP) method, which can handle both equality constraints and bounds.\n"
      ],
      "metadata": {
        "id": "7tUWWxqali8f"
      }
    },
    {
      "cell_type": "markdown",
      "source": [
        "**Section 7: Analyze the Optimal Portfolio**"
      ],
      "metadata": {
        "id": "2w9oADfaFW6x"
      }
    },
    {
      "cell_type": "code",
      "source": [
        "optimal_weights = optimized_results.x\n",
        "\n",
        "print(\"Optimal Weights:\")\n",
        "for ticker, weight in zip(tickers, optimal_weights):\n",
        "    print(f\"{ticker}: {weight:.4f}\")\n",
        "\n",
        "optimal_portfolio_return = expected_return(optimal_weights, log_returns)\n",
        "optimal_portfolio_volatility = standard_deviation(optimal_weights, cov_matrix)\n",
        "optimal_sharpe_ratio = sharpe_ratio(optimal_weights, log_returns, cov_matrix, risk_free_rate)\n",
        "\n",
        "print(f\"Expected Annual Return: {optimal_portfolio_return:.4f}\")\n",
        "print(f\"Expected Volatility: {optimal_portfolio_volatility:.4f}\")\n",
        "print(f\"Sharpe Ratio: {optimal_sharpe_ratio:.4f}\")"
      ],
      "metadata": {
        "id": "_Nzpw_vLFdka",
        "colab": {
          "base_uri": "https://localhost:8080/"
        },
        "outputId": "04310b9a-cf25-4c96-d6c7-bc1761177e5e"
      },
      "execution_count": null,
      "outputs": [
        {
          "output_type": "stream",
          "name": "stdout",
          "text": [
            "Optimal Weights:\n",
            "SPY: 0.2000\n",
            "BND: 0.0000\n",
            "GLD: 0.4000\n",
            "QQQ: 0.4000\n",
            "VTI: 0.0000\n",
            "Expected Annual Return: 0.1505\n",
            "Expected Volatility: 0.1614\n",
            "Sharpe Ratio: 0.8089\n"
          ]
        }
      ]
    },
    {
      "cell_type": "markdown",
      "source": [
        "This code snippet takes the optimal weights from the optimization process, calculates the expected return, volatility, and Sharpe ratio for the optimized portfolio, and prints these values. This gives a clear picture of the performance metrics of the optimized portfolio."
      ],
      "metadata": {
        "id": "ZQ-Sjl0onMow"
      }
    },
    {
      "cell_type": "markdown",
      "source": [
        "**Display the Final Portfolio in a Plot**"
      ],
      "metadata": {
        "id": "MFA6ay_SFsmV"
      }
    },
    {
      "cell_type": "code",
      "source": [
        "import matplotlib.pyplot as plt\n",
        "\n",
        "plt.figure(figsize=(10, 6))\n",
        "plt.bar(tickers, optimal_weights)\n",
        "\n",
        "plt.xlabel('Assets')\n",
        "plt.ylabel('Optimal Weights')\n",
        "plt.title('Optimal Portfolio Weights')\n",
        "\n",
        "plt.show()"
      ],
      "metadata": {
        "id": "0U-1FS5cFxix",
        "colab": {
          "base_uri": "https://localhost:8080/",
          "height": 564
        },
        "outputId": "dbd68d44-0f98-422d-fd7a-ca73cb5772ab"
      },
      "execution_count": null,
      "outputs": [
        {
          "output_type": "display_data",
          "data": {
            "text/plain": [
              "<Figure size 1000x600 with 1 Axes>"
            ],
            "image/png": "[encoded data removed]"
          },
          "metadata": {}
        }
      ]
    },
    {
      "cell_type": "markdown",
      "source": [
        "**Conclusion**\n",
        "\n",
        "This Python script demonstrates how to use Modern Portfolio Theory to optimize a portfolio of stocks. By calculating the optimal weights for each asset, we aim to maximize the Sharpe ratio, providing the highest possible risk-adjusted return. This approach can help investors create a well-diversified portfolio and make informed decisions when allocating their investments."
      ],
      "metadata": {
        "id": "DRd4_oKuF2I9"
      }
    }
  ]
}