{
  "nbformat": 4,
  "nbformat_minor": 0,
  "metadata": {
    "colab": {
      "provenance": [],
      "authorship_tag": "ABX9TyMae9LSv3X61Nyu7IlSyMba",
      "include_colab_link": true
    },
    "kernelspec": {
      "name": "python3",
      "display_name": "Python 3"
    },
    "language_info": {
      "name": "python"
    }
  },
  "cells": [
    {
      "cell_type": "markdown",
      "metadata": {
        "id": "view-in-github",
        "colab_type": "text"
      },
      "source": [
        "<a href=\"https://colab.research.google.com/github/aprajeeta10/python-projects/blob/main/Calculate_Value_at_Risk_(VaR)_Using_the_Monte_Carlo_Method.ipynb\" target=\"_parent\"><img src=\"https://colab.research.google.com/assets/colab-badge.svg\" alt=\"Open In Colab\"/></a>"
      ]
    },
    {
      "cell_type": "markdown",
      "source": [
        "SOURCE CODE GUIDANCE/REFERENCE: https://www.youtube.com/watch?v=X8aNFXJEENs&t=323s"
      ],
      "metadata": {
        "id": "qmS94Oq1Ygm-"
      }
    },
    {
      "cell_type": "markdown",
      "source": [
        "##Importing Libraries\n"
      ],
      "metadata": {
        "id": "IhfdpbDXYNU9"
      }
    },
    {
      "cell_type": "code",
      "source": [
        "import numpy as np\n",
        "import pandas as pd\n",
        "import datetime as dt\n",
        "import yfinance as yf\n",
        "import matplotlib.pyplot as plt\n",
        "from scipy.stats import norm"
      ],
      "metadata": {
        "id": "g-jyiWAxW_Uz"
      },
      "execution_count": null,
      "outputs": []
    },
    {
      "cell_type": "markdown",
      "source": [
        "##Setting Time Range and Ticker List\n"
      ],
      "metadata": {
        "id": "RMHVwYpaVpqV"
      }
    },
    {
      "cell_type": "markdown",
      "source": [
        "In this section, we set the time range for our historical data to 15 years and create a list of stock tickers for our portfolio.\n",
        "\n"
      ],
      "metadata": {
        "id": "wlmioIWeYS9h"
      }
    },
    {
      "cell_type": "code",
      "source": [
        "### Set time from to a certain number of years\n",
        "years = 15\n",
        "\n",
        "endDate = dt.datetime.now()\n",
        "startDate = endDate - dt.timedelta(days = 365*years)\n",
        "\n",
        "### Create a list of tickers\n",
        "tickers = ['SPY','BND','GLD','QQQ','VTI']"
      ],
      "metadata": {
        "id": "QWN0FjH0Vj4d"
      },
      "execution_count": null,
      "outputs": []
    },
    {
      "cell_type": "markdown",
      "source": [
        "##Downloading Adjusted Close Prices"
      ],
      "metadata": {
        "id": "HlD9wVKuVHrB"
      }
    },
    {
      "cell_type": "markdown",
      "source": [
        "Next, we download the daily adjusted close prices for each stock ticker using the yfinance library and store the data in a DataFrame."
      ],
      "metadata": {
        "id": "M1xDhVdDVJtn"
      }
    },
    {
      "cell_type": "code",
      "source": [
        "### Download the daily adjusted close prices for the tickers\n",
        "adj_close_df = pd.DataFrame()\n",
        "\n",
        "for ticker in tickers:\n",
        "    data = yf.download(ticker, start = startDate, end = endDate)\n",
        "    adj_close_df[ticker] = data['Adj Close']\n",
        "\n",
        "print(adj_close_df)"
      ],
      "metadata": {
        "colab": {
          "base_uri": "https://localhost:8080/"
        },
        "id": "wE572bJlVRF6",
        "outputId": "608e5e19-4ffb-41d2-b808-8c807c4c578a"
      },
      "execution_count": null,
      "outputs": [
        {
          "output_type": "stream",
          "name": "stdout",
          "text": [
            "[*********************100%***********************]  1 of 1 completed\n",
            "[*********************100%***********************]  1 of 1 completed\n",
            "[*********************100%***********************]  1 of 1 completed\n",
            "[*********************100%***********************]  1 of 1 completed\n",
            "[*********************100%***********************]  1 of 1 completed\n",
            "                   SPY        BND         GLD         QQQ         VTI\n",
            "Date                                                                 \n",
            "2008-08-04   93.331268  48.957008   88.139999   38.895512   47.327236\n",
            "2008-08-05   95.847649  48.756401   86.080002   40.208649   48.539001\n",
            "2008-08-06   96.273270  48.691727   86.639999   40.821453   48.599228\n",
            "2008-08-07   94.839615  49.002327   86.089996   40.506310   47.906757\n",
            "2008-08-08   96.601852  48.982914   84.430000   41.425507   48.922859\n",
            "...                ...        ...         ...         ...         ...\n",
            "2023-07-24  454.200012  72.500000  181.399994  376.230011  226.320007\n",
            "2023-07-25  455.440002  72.419998  182.410004  378.779999  226.889999\n",
            "2023-07-26  455.510010  72.660004  183.300003  377.519989  227.059998\n",
            "2023-07-27  452.489990  72.040001  180.419998  376.619995  225.309998\n",
            "2023-07-28  456.920013  72.290001  181.860001  383.480011  227.660004\n",
            "\n",
            "[3772 rows x 5 columns]\n"
          ]
        }
      ]
    },
    {
      "cell_type": "markdown",
      "source": [
        "##Calculating Daily Log Returns\n"
      ],
      "metadata": {
        "id": "ldK9OCQqVvfC"
      }
    },
    {
      "cell_type": "markdown",
      "source": [
        "We calculate the daily log returns for each stock in our portfolio and drop any missing values.\n",
        "\n"
      ],
      "metadata": {
        "id": "LGc44obwV95D"
      }
    },
    {
      "cell_type": "code",
      "source": [
        "### Calculate the daily log returns and drop any NAs\n",
        "log_returns = np.log(adj_close_df/adj_close_df.shift(1))\n",
        "log_returns  = log_returns.dropna()\n",
        "\n",
        "print(log_returns)"
      ],
      "metadata": {
        "colab": {
          "base_uri": "https://localhost:8080/"
        },
        "id": "w6uDuM0NV5b-",
        "outputId": "9d83e6d7-43e7-4300-8fe5-e688ecd4a9ad"
      },
      "execution_count": null,
      "outputs": [
        {
          "output_type": "stream",
          "name": "stdout",
          "text": [
            "                 SPY       BND       GLD       QQQ       VTI\n",
            "Date                                                        \n",
            "2008-08-05  0.026605 -0.004106 -0.023649  0.033203  0.025282\n",
            "2008-08-06  0.004431 -0.001327  0.006484  0.015126  0.001240\n",
            "2008-08-07 -0.015004  0.006359 -0.006368 -0.007750 -0.014351\n",
            "2008-08-08  0.018411 -0.000396 -0.019470  0.022439  0.020988\n",
            "2008-08-11  0.010305 -0.004236 -0.039870  0.009046  0.009950\n",
            "...              ...       ...       ...       ...       ...\n",
            "2023-07-24  0.004457 -0.001654 -0.004291  0.001596  0.003541\n",
            "2023-07-25  0.002726 -0.001104  0.005552  0.006755  0.002515\n",
            "2023-07-26  0.000154  0.003309  0.004867 -0.003332  0.000749\n",
            "2023-07-27 -0.006652 -0.008570 -0.015837 -0.002387 -0.007737\n",
            "2023-07-28  0.009743  0.003464  0.007950  0.018051  0.010376\n",
            "\n",
            "[3771 rows x 5 columns]\n"
          ]
        }
      ]
    },
    {
      "cell_type": "markdown",
      "source": [
        "##Defining Functions to Calculate Portfolio Expected Return and Standard Deviation\n"
      ],
      "metadata": {
        "id": "tsdgcmkSV7PA"
      }
    },
    {
      "cell_type": "markdown",
      "source": [
        "We define two functions, expected_return() and standard_deviation(), which will be used to calculate the expected return and standard deviation of our portfolio, respectively."
      ],
      "metadata": {
        "id": "NHGS4pAbWH-a"
      }
    },
    {
      "cell_type": "code",
      "source": [
        "### Create a function that will be used to calculate portfolio expected return\n",
        "###We are assuming that future returns are based on past returns, which is not a reliable assumption.\n",
        "def expected_return(weights, log_returns):\n",
        "    return np.sum(log_returns.mean()*weights)\n",
        "\n",
        "### Create a function that will be used to calculate portfolio standard deviation\n",
        "def standard_deviation (weights, cov_matrix):\n",
        "    variance = weights.T @ cov_matrix @ weights\n",
        "    return np.sqrt(variance)"
      ],
      "metadata": {
        "id": "JHVNFEauWGkQ"
      },
      "execution_count": null,
      "outputs": []
    },
    {
      "cell_type": "markdown",
      "source": [
        "##Creating a Covariance Matrix\n"
      ],
      "metadata": {
        "id": "dFY0o2mAWLyp"
      }
    },
    {
      "cell_type": "markdown",
      "source": [
        "We create a covariance matrix for all the securities in our portfolio using the daily log returns.\n",
        "\n"
      ],
      "metadata": {
        "id": "nIuYqmnHWRR8"
      }
    },
    {
      "cell_type": "code",
      "source": [
        "### Create a covariance matrix for all the securities\n",
        "cov_matrix = log_returns.cov()\n",
        "print(cov_matrix)"
      ],
      "metadata": {
        "colab": {
          "base_uri": "https://localhost:8080/"
        },
        "id": "ib4hJ0ugWPlL",
        "outputId": "39ee7b01-794d-4332-ee09-00aa1d92579f"
      },
      "execution_count": null,
      "outputs": [
        {
          "output_type": "stream",
          "name": "stdout",
          "text": [
            "              SPY           BND       GLD           QQQ           VTI\n",
            "SPY  1.678617e-04  3.732453e-08  0.000007  1.718036e-04  1.685512e-04\n",
            "BND  3.732453e-08  1.069062e-05  0.000009 -2.561426e-07 -3.029075e-08\n",
            "GLD  6.742162e-06  8.662907e-06  0.000119  5.677838e-06  7.944638e-06\n",
            "QQQ  1.718036e-04 -2.561426e-07  0.000006  2.048117e-04  1.738739e-04\n",
            "VTI  1.685512e-04 -3.029075e-08  0.000008  1.738739e-04  1.713505e-04\n"
          ]
        }
      ]
    },
    {
      "cell_type": "markdown",
      "source": [
        "##Calculating Portfolio Expected Return and Standard Deviation\n"
      ],
      "metadata": {
        "id": "S5ornZJ8WUAy"
      }
    },
    {
      "cell_type": "markdown",
      "source": [
        "We create an equally weighted portfolio and calculate the portfolio’s expected return and standard deviation using the functions we defined earlier.\n",
        "\n"
      ],
      "metadata": {
        "id": "csCzni75WcD6"
      }
    },
    {
      "cell_type": "code",
      "source": [
        "### Create an equally weighted portfolio and find total portfolio expected return and standard deviation\n",
        "portfolio_value = 1000000\n",
        "weights = np.array([1/len(tickers)]*len(tickers))\n",
        "portfolio_expected_return = expected_return(weights, log_returns)\n",
        "portfolio_std_dev = standard_deviation (weights, cov_matrix)"
      ],
      "metadata": {
        "id": "ETTD3qTzWTuB"
      },
      "execution_count": null,
      "outputs": []
    },
    {
      "cell_type": "markdown",
      "source": [
        "##Defining Functions for Monte Carlo Simulation\n"
      ],
      "metadata": {
        "id": "xR0arHboWZgV"
      }
    },
    {
      "cell_type": "markdown",
      "source": [
        "We define two functions: random_z_score() and scenario_gain_loss(). The first function generates a random Z-score based on a normal distribution, and the second function calculates the gain or loss for a given scenario."
      ],
      "metadata": {
        "id": "9kF0Scm3XfOS"
      }
    },
    {
      "cell_type": "code",
      "source": [
        "def random_z_score():\n",
        "    return np.random.normal(0, 1)\n",
        "\n",
        "### Create a function to calculate scenarioGainLoss\n",
        "days = 20\n",
        "\n",
        "def scenario_gain_loss(portfolio_value, portfolio_std_dev, z_score, days):\n",
        "    return portfolio_value * portfolio_expected_return * days + portfolio_value * portfolio_std_dev * z_score * np.sqrt(days)"
      ],
      "metadata": {
        "id": "1J_RZbp4WmG2"
      },
      "execution_count": null,
      "outputs": []
    },
    {
      "cell_type": "markdown",
      "source": [
        "##Running Monte Carlo Simulation\n"
      ],
      "metadata": {
        "id": "oo54mMMYXhV6"
      }
    },
    {
      "cell_type": "markdown",
      "source": [
        "We run 10,000 Monte Carlo simulations, calculating the scenario gain/loss for each simulation and storing the results in a list."
      ],
      "metadata": {
        "id": "yNDqh22eXkvi"
      }
    },
    {
      "cell_type": "code",
      "source": [
        "### Run 10000 simulations\n",
        "simulations = 10000\n",
        "scenarioReturn = []\n",
        "\n",
        "for i in range(simulations):\n",
        "    z_score = random_z_score()\n",
        "    scenarioReturn.append(scenario_gain_loss(portfolio_value, portfolio_std_dev, z_score, days))"
      ],
      "metadata": {
        "id": "W58A6O2HXnvb"
      },
      "execution_count": null,
      "outputs": []
    },
    {
      "cell_type": "markdown",
      "source": [
        "##Calculating Value at Risk (VaR)\n"
      ],
      "metadata": {
        "id": "y6Xm5ISKXqBq"
      }
    },
    {
      "cell_type": "markdown",
      "source": [
        "We specify a confidence interval of 99% and calculate Value at Risk (VaR) using the results of our simulations."
      ],
      "metadata": {
        "id": "wvs1xI8vXz0Y"
      }
    },
    {
      "cell_type": "code",
      "source": [
        "### Specify a confidence interval and calculate the Value at Risk (VaR)\n",
        "confidence_interval = 0.99\n",
        "VaR = -np.percentile(scenarioReturn, 100 * (1 - confidence_interval))\n",
        "print(VaR)"
      ],
      "metadata": {
        "colab": {
          "base_uri": "https://localhost:8080/"
        },
        "id": "yRYw8C9QXyII",
        "outputId": "6413b604-ca41-43c1-c57c-8c4cbbbd3892"
      },
      "execution_count": null,
      "outputs": [
        {
          "output_type": "stream",
          "name": "stdout",
          "text": [
            "83736.12497249298\n"
          ]
        }
      ]
    },
    {
      "cell_type": "markdown",
      "source": [
        "##Plotting the Results\n"
      ],
      "metadata": {
        "id": "8oQU2oNPX3ML"
      }
    },
    {
      "cell_type": "markdown",
      "source": [
        "Finally, we create a histogram to visualize the distribution of portfolio gain/loss over the specified number of days. We also add a vertical dashed line to indicate the VaR at our chosen confidence level."
      ],
      "metadata": {
        "id": "s_Leh69zX85Y"
      }
    },
    {
      "cell_type": "code",
      "source": [
        "### Plot the results of all 10000 scenarios\n",
        "plt.hist(scenarioReturn, bins=50, density=True)\n",
        "plt.xlabel('Scenario Gain/Loss ($)')\n",
        "plt.ylabel('Frequency')\n",
        "plt.title(f'Distribution of Portfolio Gain/Loss Over {days} Days')\n",
        "plt.axvline(-VaR, color='r', linestyle='dashed', linewidth=2, label=f'VaR at {confidence_interval:.0%} confidence level')\n",
        "plt.legend()\n",
        "plt.show()"
      ],
      "metadata": {
        "colab": {
          "base_uri": "https://localhost:8080/",
          "height": 472
        },
        "id": "Sc0vZUFcX9GO",
        "outputId": "8ff2af72-d8d2-415f-e260-e548ae646862"
      },
      "execution_count": null,
      "outputs": [
        {
          "output_type": "display_data",
          "data": {
            "text/plain": [
              "<Figure size 640x480 with 1 Axes>"
            ],
            "image/png": "[encoded data removed]"
          },
          "metadata": {}
        }
      ]
    }
  ]
}